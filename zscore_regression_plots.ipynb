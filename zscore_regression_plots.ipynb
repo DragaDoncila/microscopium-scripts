{
 "cells": [
  {
   "cell_type": "markdown",
   "metadata": {},
   "source": [
    "Get the feature data and any other data we need from MongoDB"
   ]
  },
  {
   "cell_type": "code",
   "execution_count": 5,
   "metadata": {
    "collapsed": false
   },
   "outputs": [],
   "source": [
    "%matplotlib inline\n",
    "\n",
    "import pandas as pd\n",
    "from sklearn.preprocessing import StandardScaler\n",
    "from sklearn.manifold import TSNE\n",
    "from sklearn.decomposition import PCA\n",
    "from sklearn.linear_model import LinearRegression\n",
    "\n",
    "from pymongo import MongoClient\n",
    "import pymongo\n",
    "\n",
    "import matplotlib.pyplot as plt\n",
    "import matplotlib.pylab as pylab\n",
    "pylab.rcParams['figure.figsize'] = 10, 8"
   ]
  },
  {
   "cell_type": "code",
   "execution_count": 6,
   "metadata": {
    "collapsed": true
   },
   "outputs": [],
   "source": [
    "client = MongoClient(\"localhost\", 27017)\n",
    "db = client[\"microscopium\"]"
   ]
  },
  {
   "cell_type": "code",
   "execution_count": 7,
   "metadata": {
    "collapsed": true
   },
   "outputs": [],
   "source": [
    "# get z scores and sample type (empty, control type, etc)\n",
    "docs = db.samples.find({\"screen\":\"KEEFE\"}).sort([(\"_id\", pymongo.ASCENDING)])\n",
    "\n",
    "scores = {}\n",
    "\n",
    "scores[\"average_EduAvgInten_normalised_to_OTP_robust_z_scored\"] = []\n",
    "scores[\"average_EduTotalInten_normalised_to_OTP_robust_z_scored\"] = []\n",
    "scores[\"average_NucSize_normalised_to_OTP_robust_z_scored\"] = []\n",
    "scores[\"average_NucArea_normalised_to_OTP_robust_z_scored\"] = []\n",
    "scores[\"average_NucSize_normalised_to_OTP_robust_z_scored\"] = []\n",
    "scores[\"average_cell_count_normalised_to_OTP_robust_z_scored\"] = []\n",
    "\n",
    "coding = []\n",
    "\n",
    "for doc in docs:\n",
    "    for key in scores.keys():\n",
    "        scores[key].append(doc[\"overlays\"][key])\n",
    "        \n",
    "    if doc[\"empty\"] == True:\n",
    "        coding.append('empty')\n",
    "    elif doc[\"control_pos\"] == True:\n",
    "        coding.append(\"control_pos\")\n",
    "    elif doc[\"control_neg\"] == True:\n",
    "        coding.append(\"control_neg\")\n",
    "    else:\n",
    "        coding.append(\"treated\")"
   ]
  },
  {
   "cell_type": "code",
   "execution_count": 8,
   "metadata": {
    "collapsed": false
   },
   "outputs": [],
   "source": [
    "data = pd.read_csv(\"../microscopium-data/KEEFE-features.csv\", index_col=0)\n",
    "feature_cols = data.columns\n",
    "data[\"type\"] = coding\n",
    "\n",
    "for score in scores.keys():\n",
    "    data[score] = scores[score]"
   ]
  },
  {
   "cell_type": "markdown",
   "metadata": {
    "collapsed": false
   },
   "source": [
    "Create linear regression models -- we are really only interested in wells that were actually treated. Empty wells and controls were exluded from the z-score analysis and carry a default score of 0. For each model, get the r^2 score."
   ]
  },
  {
   "cell_type": "code",
   "execution_count": 9,
   "metadata": {
    "collapsed": false
   },
   "outputs": [],
   "source": [
    "data_experimental = data[data[\"type\"].isin([\"treated\"])]\n",
    "scaler = StandardScaler()\n",
    "data_experimental_std = scaler.fit_transform(data_experimental[feature_cols])"
   ]
  },
  {
   "cell_type": "code",
   "execution_count": 10,
   "metadata": {
    "collapsed": false
   },
   "outputs": [
    {
     "name": "stdout",
     "output_type": "stream",
     "text": [
      "average_NucArea_normalised_to_OTP_robust_z_scored, 0.41159245211004136\n",
      "average_NucSize_normalised_to_OTP_robust_z_scored, 0.3958513341827407\n",
      "average_EduAvgInten_normalised_to_OTP_robust_z_scored, 0.4049269854303007\n",
      "average_cell_count_normalised_to_OTP_robust_z_scored, 0.4368591429830658\n",
      "average_EduTotalInten_normalised_to_OTP_robust_z_scored, 0.4198962966951594\n"
     ]
    }
   ],
   "source": [
    "# fit simple linear regression models for each\n",
    "def fit_models(data, scores):\n",
    "    for key in scores.keys():\n",
    "        X = data\n",
    "        y = data_experimental[key]\n",
    "        regression = LinearRegression()\n",
    "        regression.fit(X, y)\n",
    "        score = regression.score(X, y)\n",
    "        print(\"{0}, {1}\".format(key, score))\n",
    "        \n",
    "fit_models(data_experimental_std, scores)"
   ]
  },
  {
   "cell_type": "markdown",
   "metadata": {},
   "source": [
    "Okay, that's pretty decent! How about in the lower dimension space? How well does the positive correlation hold up?"
   ]
  },
  {
   "cell_type": "code",
   "execution_count": null,
   "metadata": {
    "collapsed": true
   },
   "outputs": [],
   "source": [
    "data_pca_50 = PCA(n_components=50).fit_transform(data_experimental_std)\n",
    "data_pca = PCA(n_components=2).fit_transform(data_experimental_std)\n",
    "data_tsne = TSNE(n_components=2).fit_transform(data_pca_50)"
   ]
  },
  {
   "cell_type": "code",
   "execution_count": null,
   "metadata": {
    "collapsed": true
   },
   "outputs": [],
   "source": [
    "fit_models(data_pca_50, scores)"
   ]
  },
  {
   "cell_type": "code",
   "execution_count": null,
   "metadata": {
    "collapsed": false
   },
   "outputs": [],
   "source": [
    "fit_models(data_pca, scores)"
   ]
  },
  {
   "cell_type": "code",
   "execution_count": null,
   "metadata": {
    "collapsed": false
   },
   "outputs": [],
   "source": [
    "fit_models(data_tsne, scores)"
   ]
  },
  {
   "cell_type": "markdown",
   "metadata": {},
   "source": [
    "How do the plots look with z-scores overlaid?"
   ]
  },
  {
   "cell_type": "code",
   "execution_count": null,
   "metadata": {
    "collapsed": false
   },
   "outputs": [],
   "source": [
    "key = \"average_EduAvgInten_normalised_to_OTP_robust_z_scored\"\n",
    "plt.scatter(data_pca[:, 0], data_pca[:, 1], s=45, c=data_experimental[key], cmap=\"viridis\", vmin=-2, vmax=2)\n",
    "plt.colorbar()"
   ]
  },
  {
   "cell_type": "code",
   "execution_count": null,
   "metadata": {
    "collapsed": false
   },
   "outputs": [],
   "source": [
    "key = \"average_EduAvgInten_normalised_to_OTP_robust_z_scored\"\n",
    "plt.scatter(data_tsne[:, 0], data_tsne[:, 1], s=45, c=data_experimental[key], cmap=\"viridis\", vmin=-2, vmax=2)\n",
    "plt.colorbar()"
   ]
  },
  {
   "cell_type": "code",
   "execution_count": null,
   "metadata": {
    "collapsed": true
   },
   "outputs": [],
   "source": []
  }
 ],
 "metadata": {
  "kernelspec": {
   "display_name": "Python 3",
   "language": "python",
   "name": "python3"
  },
  "language_info": {
   "codemirror_mode": {
    "name": "ipython",
    "version": 3
   },
   "file_extension": ".py",
   "mimetype": "text/x-python",
   "name": "python",
   "nbconvert_exporter": "python",
   "pygments_lexer": "ipython3",
   "version": "3.4.4"
  }
 },
 "nbformat": 4,
 "nbformat_minor": 0
}
