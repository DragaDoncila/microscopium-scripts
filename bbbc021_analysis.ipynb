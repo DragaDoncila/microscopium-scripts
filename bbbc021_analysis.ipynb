{
 "cells": [
  {
   "cell_type": "code",
   "execution_count": 1,
   "metadata": {
    "collapsed": false
   },
   "outputs": [],
   "source": [
    "import pandas as pd\n",
    "from microscopium.screens import image_xpress\n",
    "import os\n",
    "import numpy as np\n",
    "from sklearn import svm\n",
    "from sklearn import cross_validation\n",
    "from sklearn.ensemble import ExtraTreesClassifier\n",
    "from sklearn.preprocessing import StandardScaler\n",
    "from sklearn.decomposition import PCA\n",
    "from sklearn.manifold import TSNE\n",
    "from sklearn.cluster import AgglomerativeClustering\n",
    "from sklearn import metrics\n",
    "import pylab\n",
    "import matplotlib.pyplot as plt\n",
    "import matplotlib\n",
    "import brewer2mpl\n",
    "\n",
    "%matplotlib inline  \n",
    "pylab.rcParams['figure.figsize'] = (10.0, 8.0)"
   ]
  },
  {
   "cell_type": "markdown",
   "metadata": {
    "collapsed": true
   },
   "source": [
    "# Fun with the BBBC021 dataset\n",
    "\n",
    "* This uses the [BBBC021](https://www.broadinstitute.org/bbbc/BBBC021/) dataset, a screen of MCF-7 breast cancer cells treated with a library of 113 compounds. A subset (103 wells) have been annotated such that the compounds they were treated have been placed in 12 categories.\n",
    "* I ran the feature extraction using Microscopium's object features, and some additional features of my choosing. These are [Haralick texture features](http://murphylab.web.cmu.edu/publications/boland/boland_node26.html) and [threshold adjacancy statistics](http://bmcbioinformatics.biomedcentral.com/articles/10.1186/1471-2105-8-110).\n",
    "* Even though Microscopium is designed with unsupervised clustering and dimensionality reduction in mind, these annotated data-sets are useful because we can quantify how useful features are and whether or not the clustering scheme preserves the ground truth labels."
   ]
  },
  {
   "cell_type": "markdown",
   "metadata": {},
   "source": [
    "## The boring bit\n",
    "First we need to wrangle the metadata into useable format."
   ]
  },
  {
   "cell_type": "code",
   "execution_count": 2,
   "metadata": {
    "collapsed": false
   },
   "outputs": [],
   "source": [
    "# first load in the screen metadata\n",
    "bbbc021_metadata = pd.read_csv(\"./BBBC021_v1_image.csv\")\n",
    "\n",
    "# now load in the mechanism of action metadata, these map\n",
    "# compouds to a class of compounds\n",
    "bbbc021_moa = pd.read_csv(\"./BBBC021_v1_moa.csv\")"
   ]
  },
  {
   "cell_type": "code",
   "execution_count": 3,
   "metadata": {
    "collapsed": false
   },
   "outputs": [
    {
     "data": {
      "text/html": [
       "<div>\n",
       "<table border=\"1\" class=\"dataframe\">\n",
       "  <thead>\n",
       "    <tr style=\"text-align: right;\">\n",
       "      <th></th>\n",
       "      <th>Image_Metadata_Compound</th>\n",
       "      <th>Image_Metadata_Concentration</th>\n",
       "    </tr>\n",
       "  </thead>\n",
       "  <tbody>\n",
       "    <tr>\n",
       "      <th>BBBC021-27481-G10</th>\n",
       "      <td>5-fluorouracil</td>\n",
       "      <td>0.003</td>\n",
       "    </tr>\n",
       "    <tr>\n",
       "      <th>BBBC021-27481-G10</th>\n",
       "      <td>5-fluorouracil</td>\n",
       "      <td>0.003</td>\n",
       "    </tr>\n",
       "    <tr>\n",
       "      <th>BBBC021-27481-G10</th>\n",
       "      <td>5-fluorouracil</td>\n",
       "      <td>0.003</td>\n",
       "    </tr>\n",
       "    <tr>\n",
       "      <th>BBBC021-27481-G10</th>\n",
       "      <td>5-fluorouracil</td>\n",
       "      <td>0.003</td>\n",
       "    </tr>\n",
       "    <tr>\n",
       "      <th>BBBC021-27521-G10</th>\n",
       "      <td>5-fluorouracil</td>\n",
       "      <td>0.003</td>\n",
       "    </tr>\n",
       "  </tbody>\n",
       "</table>\n",
       "</div>"
      ],
      "text/plain": [
       "                  Image_Metadata_Compound  Image_Metadata_Concentration\n",
       "BBBC021-27481-G10          5-fluorouracil                         0.003\n",
       "BBBC021-27481-G10          5-fluorouracil                         0.003\n",
       "BBBC021-27481-G10          5-fluorouracil                         0.003\n",
       "BBBC021-27481-G10          5-fluorouracil                         0.003\n",
       "BBBC021-27521-G10          5-fluorouracil                         0.003"
      ]
     },
     "execution_count": 3,
     "metadata": {},
     "output_type": "execute_result"
    }
   ],
   "source": [
    "# wrangle the metadata into a form that maps screen-plate-well format IDs\n",
    "# to the compound it was treated with. this dataset contains no controls or\n",
    "# empty wells, so we don't need to worry about those!!\n",
    "\n",
    "# first only keep the colums we want -- \n",
    "# Image_FileName_DAPI, Image_PathName_DAPI, Image_Metadata_Compound, Image_Metadata_Concentration\n",
    "bbbc021_metadata = bbbc021_metadata[[\"Image_FileName_DAPI\",\n",
    "                                     \"Image_PathName_DAPI\",\n",
    "                                     \"Image_Metadata_Compound\", \n",
    "                                     \"Image_Metadata_Concentration\"]]\n",
    "\n",
    "def fn_to_id(fn):\n",
    "    sem = image_xpress.ix_semantic_filename(fn)\n",
    "    return \"{0}-{1}-{2}\".format(\"BBBC021\", sem[\"plate\"], sem[\"well\"])\n",
    "\n",
    "# merge the Image_PathName_DAPI and Image_FileName_DAPI column with os.path.join\n",
    "fn_cols = zip(bbbc021_metadata[\"Image_PathName_DAPI\"], bbbc021_metadata[\"Image_FileName_DAPI\"])\n",
    "bbbc021_metadata.index = list(map(fn_to_id, [os.path.join(i, j) for (i, j) in fn_cols]))\n",
    "bbbc021_metadata = bbbc021_metadata[[\"Image_Metadata_Compound\", \"Image_Metadata_Concentration\"]]\n",
    "bbbc021_metadata.head()"
   ]
  },
  {
   "cell_type": "code",
   "execution_count": 4,
   "metadata": {
    "collapsed": false
   },
   "outputs": [
    {
     "data": {
      "text/html": [
       "<div>\n",
       "<table border=\"1\" class=\"dataframe\">\n",
       "  <thead>\n",
       "    <tr style=\"text-align: right;\">\n",
       "      <th></th>\n",
       "      <th></th>\n",
       "      <th>concentration</th>\n",
       "    </tr>\n",
       "    <tr>\n",
       "      <th>compound</th>\n",
       "      <th>moa</th>\n",
       "      <th></th>\n",
       "    </tr>\n",
       "  </thead>\n",
       "  <tbody>\n",
       "    <tr>\n",
       "      <th>ALLN</th>\n",
       "      <th>Protein degradation</th>\n",
       "      <td>2</td>\n",
       "    </tr>\n",
       "    <tr>\n",
       "      <th>AZ-A</th>\n",
       "      <th>Aurora kinase inhibitors</th>\n",
       "      <td>6</td>\n",
       "    </tr>\n",
       "    <tr>\n",
       "      <th>AZ-C</th>\n",
       "      <th>Eg5 inhibitors</th>\n",
       "      <td>7</td>\n",
       "    </tr>\n",
       "    <tr>\n",
       "      <th>AZ-J</th>\n",
       "      <th>Epithelial</th>\n",
       "      <td>3</td>\n",
       "    </tr>\n",
       "    <tr>\n",
       "      <th>AZ-U</th>\n",
       "      <th>Epithelial</th>\n",
       "      <td>3</td>\n",
       "    </tr>\n",
       "    <tr>\n",
       "      <th>AZ138</th>\n",
       "      <th>Eg5 inhibitors</th>\n",
       "      <td>5</td>\n",
       "    </tr>\n",
       "    <tr>\n",
       "      <th>AZ258</th>\n",
       "      <th>Aurora kinase inhibitors</th>\n",
       "      <td>3</td>\n",
       "    </tr>\n",
       "    <tr>\n",
       "      <th>AZ841</th>\n",
       "      <th>Aurora kinase inhibitors</th>\n",
       "      <td>3</td>\n",
       "    </tr>\n",
       "    <tr>\n",
       "      <th>DMSO</th>\n",
       "      <th>DMSO</th>\n",
       "      <td>1</td>\n",
       "    </tr>\n",
       "    <tr>\n",
       "      <th>MG-132</th>\n",
       "      <th>Protein degradation</th>\n",
       "      <td>2</td>\n",
       "    </tr>\n",
       "    <tr>\n",
       "      <th>PD-169316</th>\n",
       "      <th>Kinase inhibitors</th>\n",
       "      <td>2</td>\n",
       "    </tr>\n",
       "    <tr>\n",
       "      <th>PP-2</th>\n",
       "      <th>Epithelial</th>\n",
       "      <td>2</td>\n",
       "    </tr>\n",
       "    <tr>\n",
       "      <th>alsterpaullone</th>\n",
       "      <th>Kinase inhibitors</th>\n",
       "      <td>2</td>\n",
       "    </tr>\n",
       "    <tr>\n",
       "      <th>anisomycin</th>\n",
       "      <th>Protein synthesis</th>\n",
       "      <td>2</td>\n",
       "    </tr>\n",
       "    <tr>\n",
       "      <th>bryostatin</th>\n",
       "      <th>Kinase inhibitors</th>\n",
       "      <td>1</td>\n",
       "    </tr>\n",
       "    <tr>\n",
       "      <th>camptothecin</th>\n",
       "      <th>DNA replication</th>\n",
       "      <td>3</td>\n",
       "    </tr>\n",
       "    <tr>\n",
       "      <th>chlorambucil</th>\n",
       "      <th>DNA damage</th>\n",
       "      <td>1</td>\n",
       "    </tr>\n",
       "    <tr>\n",
       "      <th>cisplatin</th>\n",
       "      <th>DNA damage</th>\n",
       "      <td>1</td>\n",
       "    </tr>\n",
       "    <tr>\n",
       "      <th>colchicine</th>\n",
       "      <th>Microtubule destabilizers</th>\n",
       "      <td>1</td>\n",
       "    </tr>\n",
       "    <tr>\n",
       "      <th>cyclohexamide</th>\n",
       "      <th>Protein synthesis</th>\n",
       "      <td>3</td>\n",
       "    </tr>\n",
       "    <tr>\n",
       "      <th>cytochalasin B</th>\n",
       "      <th>Actin disruptors</th>\n",
       "      <td>2</td>\n",
       "    </tr>\n",
       "    <tr>\n",
       "      <th>cytochalasin D</th>\n",
       "      <th>Actin disruptors</th>\n",
       "      <td>1</td>\n",
       "    </tr>\n",
       "    <tr>\n",
       "      <th>demecolcine</th>\n",
       "      <th>Microtubule destabilizers</th>\n",
       "      <td>4</td>\n",
       "    </tr>\n",
       "    <tr>\n",
       "      <th>docetaxel</th>\n",
       "      <th>Microtubule stabilizers</th>\n",
       "      <td>3</td>\n",
       "    </tr>\n",
       "    <tr>\n",
       "      <th>emetine</th>\n",
       "      <th>Protein synthesis</th>\n",
       "      <td>3</td>\n",
       "    </tr>\n",
       "    <tr>\n",
       "      <th>epothilone B</th>\n",
       "      <th>Microtubule stabilizers</th>\n",
       "      <td>3</td>\n",
       "    </tr>\n",
       "    <tr>\n",
       "      <th>etoposide</th>\n",
       "      <th>DNA damage</th>\n",
       "      <td>3</td>\n",
       "    </tr>\n",
       "    <tr>\n",
       "      <th>floxuridine</th>\n",
       "      <th>DNA replication</th>\n",
       "      <td>2</td>\n",
       "    </tr>\n",
       "    <tr>\n",
       "      <th>lactacystin</th>\n",
       "      <th>Protein degradation</th>\n",
       "      <td>1</td>\n",
       "    </tr>\n",
       "    <tr>\n",
       "      <th>latrunculin B</th>\n",
       "      <th>Actin disruptors</th>\n",
       "      <td>2</td>\n",
       "    </tr>\n",
       "    <tr>\n",
       "      <th>methotrexate</th>\n",
       "      <th>DNA replication</th>\n",
       "      <td>1</td>\n",
       "    </tr>\n",
       "    <tr>\n",
       "      <th>mevinolin/lovastatin</th>\n",
       "      <th>Cholesterol-lowering</th>\n",
       "      <td>3</td>\n",
       "    </tr>\n",
       "    <tr>\n",
       "      <th>mitomycin C</th>\n",
       "      <th>DNA damage</th>\n",
       "      <td>4</td>\n",
       "    </tr>\n",
       "    <tr>\n",
       "      <th>mitoxantrone</th>\n",
       "      <th>DNA replication</th>\n",
       "      <td>2</td>\n",
       "    </tr>\n",
       "    <tr>\n",
       "      <th>nocodazole</th>\n",
       "      <th>Microtubule destabilizers</th>\n",
       "      <td>2</td>\n",
       "    </tr>\n",
       "    <tr>\n",
       "      <th>proteasome inhibitor I</th>\n",
       "      <th>Protein degradation</th>\n",
       "      <td>2</td>\n",
       "    </tr>\n",
       "    <tr>\n",
       "      <th>simvastatin</th>\n",
       "      <th>Cholesterol-lowering</th>\n",
       "      <td>3</td>\n",
       "    </tr>\n",
       "    <tr>\n",
       "      <th>taxol</th>\n",
       "      <th>Microtubule stabilizers</th>\n",
       "      <td>3</td>\n",
       "    </tr>\n",
       "    <tr>\n",
       "      <th>vincristine</th>\n",
       "      <th>Microtubule destabilizers</th>\n",
       "      <td>7</td>\n",
       "    </tr>\n",
       "  </tbody>\n",
       "</table>\n",
       "</div>"
      ],
      "text/plain": [
       "                                                  concentration\n",
       "compound               moa                                     \n",
       "ALLN                   Protein degradation                    2\n",
       "AZ-A                   Aurora kinase inhibitors               6\n",
       "AZ-C                   Eg5 inhibitors                         7\n",
       "AZ-J                   Epithelial                             3\n",
       "AZ-U                   Epithelial                             3\n",
       "AZ138                  Eg5 inhibitors                         5\n",
       "AZ258                  Aurora kinase inhibitors               3\n",
       "AZ841                  Aurora kinase inhibitors               3\n",
       "DMSO                   DMSO                                   1\n",
       "MG-132                 Protein degradation                    2\n",
       "PD-169316              Kinase inhibitors                      2\n",
       "PP-2                   Epithelial                             2\n",
       "alsterpaullone         Kinase inhibitors                      2\n",
       "anisomycin             Protein synthesis                      2\n",
       "bryostatin             Kinase inhibitors                      1\n",
       "camptothecin           DNA replication                        3\n",
       "chlorambucil           DNA damage                             1\n",
       "cisplatin              DNA damage                             1\n",
       "colchicine             Microtubule destabilizers              1\n",
       "cyclohexamide          Protein synthesis                      3\n",
       "cytochalasin B         Actin disruptors                       2\n",
       "cytochalasin D         Actin disruptors                       1\n",
       "demecolcine            Microtubule destabilizers              4\n",
       "docetaxel              Microtubule stabilizers                3\n",
       "emetine                Protein synthesis                      3\n",
       "epothilone B           Microtubule stabilizers                3\n",
       "etoposide              DNA damage                             3\n",
       "floxuridine            DNA replication                        2\n",
       "lactacystin            Protein degradation                    1\n",
       "latrunculin B          Actin disruptors                       2\n",
       "methotrexate           DNA replication                        1\n",
       "mevinolin/lovastatin   Cholesterol-lowering                   3\n",
       "mitomycin C            DNA damage                             4\n",
       "mitoxantrone           DNA replication                        2\n",
       "nocodazole             Microtubule destabilizers              2\n",
       "proteasome inhibitor I Protein degradation                    2\n",
       "simvastatin            Cholesterol-lowering                   3\n",
       "taxol                  Microtubule stabilizers                3\n",
       "vincristine            Microtubule destabilizers              7"
      ]
     },
     "execution_count": 4,
     "metadata": {},
     "output_type": "execute_result"
    }
   ],
   "source": [
    "# good idea to check that different concentrations don't \n",
    "# change the expected mechanism of action in the annotations\n",
    "bbbc021_moa.groupby(['compound', 'moa']).count()"
   ]
  },
  {
   "cell_type": "code",
   "execution_count": 5,
   "metadata": {
    "collapsed": false
   },
   "outputs": [],
   "source": [
    "# now merge the dataframes!\n",
    "right_cols = [\"compound\", \"concentration\"]\n",
    "bbbc021_merged = bbbc021_metadata.reset_index().merge(\n",
    "    bbbc021_moa, how=\"outer\", \n",
    "    left_on=[\"Image_Metadata_Compound\", \"Image_Metadata_Concentration\"], \n",
    "    right_on=right_cols).set_index(\"index\").dropna().drop_duplicates()"
   ]
  },
  {
   "cell_type": "code",
   "execution_count": 6,
   "metadata": {
    "collapsed": false,
    "scrolled": true
   },
   "outputs": [
    {
     "data": {
      "text/html": [
       "<div>\n",
       "<table border=\"1\" class=\"dataframe\">\n",
       "  <thead>\n",
       "    <tr style=\"text-align: right;\">\n",
       "      <th></th>\n",
       "      <th>Image_Metadata_Compound</th>\n",
       "      <th>Image_Metadata_Concentration</th>\n",
       "      <th>compound</th>\n",
       "      <th>concentration</th>\n",
       "    </tr>\n",
       "    <tr>\n",
       "      <th>moa</th>\n",
       "      <th></th>\n",
       "      <th></th>\n",
       "      <th></th>\n",
       "      <th></th>\n",
       "    </tr>\n",
       "  </thead>\n",
       "  <tbody>\n",
       "    <tr>\n",
       "      <th>Actin disruptors</th>\n",
       "      <td>5</td>\n",
       "      <td>5</td>\n",
       "      <td>5</td>\n",
       "      <td>5</td>\n",
       "    </tr>\n",
       "    <tr>\n",
       "      <th>Aurora kinase inhibitors</th>\n",
       "      <td>12</td>\n",
       "      <td>12</td>\n",
       "      <td>12</td>\n",
       "      <td>12</td>\n",
       "    </tr>\n",
       "    <tr>\n",
       "      <th>Cholesterol-lowering</th>\n",
       "      <td>6</td>\n",
       "      <td>6</td>\n",
       "      <td>6</td>\n",
       "      <td>6</td>\n",
       "    </tr>\n",
       "    <tr>\n",
       "      <th>DMSO</th>\n",
       "      <td>1</td>\n",
       "      <td>1</td>\n",
       "      <td>1</td>\n",
       "      <td>1</td>\n",
       "    </tr>\n",
       "    <tr>\n",
       "      <th>DNA damage</th>\n",
       "      <td>9</td>\n",
       "      <td>9</td>\n",
       "      <td>9</td>\n",
       "      <td>9</td>\n",
       "    </tr>\n",
       "    <tr>\n",
       "      <th>DNA replication</th>\n",
       "      <td>8</td>\n",
       "      <td>8</td>\n",
       "      <td>8</td>\n",
       "      <td>8</td>\n",
       "    </tr>\n",
       "    <tr>\n",
       "      <th>Eg5 inhibitors</th>\n",
       "      <td>12</td>\n",
       "      <td>12</td>\n",
       "      <td>12</td>\n",
       "      <td>12</td>\n",
       "    </tr>\n",
       "    <tr>\n",
       "      <th>Epithelial</th>\n",
       "      <td>8</td>\n",
       "      <td>8</td>\n",
       "      <td>8</td>\n",
       "      <td>8</td>\n",
       "    </tr>\n",
       "    <tr>\n",
       "      <th>Kinase inhibitors</th>\n",
       "      <td>5</td>\n",
       "      <td>5</td>\n",
       "      <td>5</td>\n",
       "      <td>5</td>\n",
       "    </tr>\n",
       "    <tr>\n",
       "      <th>Microtubule destabilizers</th>\n",
       "      <td>14</td>\n",
       "      <td>14</td>\n",
       "      <td>14</td>\n",
       "      <td>14</td>\n",
       "    </tr>\n",
       "    <tr>\n",
       "      <th>Microtubule stabilizers</th>\n",
       "      <td>9</td>\n",
       "      <td>9</td>\n",
       "      <td>9</td>\n",
       "      <td>9</td>\n",
       "    </tr>\n",
       "    <tr>\n",
       "      <th>Protein degradation</th>\n",
       "      <td>7</td>\n",
       "      <td>7</td>\n",
       "      <td>7</td>\n",
       "      <td>7</td>\n",
       "    </tr>\n",
       "    <tr>\n",
       "      <th>Protein synthesis</th>\n",
       "      <td>8</td>\n",
       "      <td>8</td>\n",
       "      <td>8</td>\n",
       "      <td>8</td>\n",
       "    </tr>\n",
       "  </tbody>\n",
       "</table>\n",
       "</div>"
      ],
      "text/plain": [
       "                           Image_Metadata_Compound  \\\n",
       "moa                                                  \n",
       "Actin disruptors                                 5   \n",
       "Aurora kinase inhibitors                        12   \n",
       "Cholesterol-lowering                             6   \n",
       "DMSO                                             1   \n",
       "DNA damage                                       9   \n",
       "DNA replication                                  8   \n",
       "Eg5 inhibitors                                  12   \n",
       "Epithelial                                       8   \n",
       "Kinase inhibitors                                5   \n",
       "Microtubule destabilizers                       14   \n",
       "Microtubule stabilizers                          9   \n",
       "Protein degradation                              7   \n",
       "Protein synthesis                                8   \n",
       "\n",
       "                           Image_Metadata_Concentration  compound  \\\n",
       "moa                                                                 \n",
       "Actin disruptors                                      5         5   \n",
       "Aurora kinase inhibitors                             12        12   \n",
       "Cholesterol-lowering                                  6         6   \n",
       "DMSO                                                  1         1   \n",
       "DNA damage                                            9         9   \n",
       "DNA replication                                       8         8   \n",
       "Eg5 inhibitors                                       12        12   \n",
       "Epithelial                                            8         8   \n",
       "Kinase inhibitors                                     5         5   \n",
       "Microtubule destabilizers                            14        14   \n",
       "Microtubule stabilizers                               9         9   \n",
       "Protein degradation                                   7         7   \n",
       "Protein synthesis                                     8         8   \n",
       "\n",
       "                           concentration  \n",
       "moa                                       \n",
       "Actin disruptors                       5  \n",
       "Aurora kinase inhibitors              12  \n",
       "Cholesterol-lowering                   6  \n",
       "DMSO                                   1  \n",
       "DNA damage                             9  \n",
       "DNA replication                        8  \n",
       "Eg5 inhibitors                        12  \n",
       "Epithelial                             8  \n",
       "Kinase inhibitors                      5  \n",
       "Microtubule destabilizers             14  \n",
       "Microtubule stabilizers                9  \n",
       "Protein degradation                    7  \n",
       "Protein synthesis                      8  "
      ]
     },
     "execution_count": 6,
     "metadata": {},
     "output_type": "execute_result"
    }
   ],
   "source": [
    "# only a subset of the data was annotated -- 103\n",
    "# how are the classes distributed?\n",
    "bbbc021_merged.head()\n",
    "bbbc021_merged.groupby(\"moa\").count()"
   ]
  },
  {
   "cell_type": "code",
   "execution_count": 7,
   "metadata": {
    "collapsed": false
   },
   "outputs": [],
   "source": [
    "# only one example for the \"DMSO\" class. remove this.\n",
    "bbbc021_merged = bbbc021_merged[bbbc021_merged[\"compound\"] != \"DMSO\"]"
   ]
  },
  {
   "cell_type": "code",
   "execution_count": 8,
   "metadata": {
    "collapsed": false
   },
   "outputs": [
    {
     "data": {
      "text/html": [
       "<div>\n",
       "<table border=\"1\" class=\"dataframe\">\n",
       "  <thead>\n",
       "    <tr style=\"text-align: right;\">\n",
       "      <th></th>\n",
       "      <th>chan0-num-objs-per-field</th>\n",
       "      <th>chan0-area-percentile5</th>\n",
       "      <th>chan0-area-percentile25</th>\n",
       "      <th>chan0-area-percentile50</th>\n",
       "      <th>chan0-area-percentile75</th>\n",
       "      <th>chan0-area-percentile95</th>\n",
       "      <th>chan0-eccentricity-percentile5</th>\n",
       "      <th>chan0-eccentricity-percentile25</th>\n",
       "      <th>chan0-eccentricity-percentile50</th>\n",
       "      <th>chan0-eccentricity-percentile75</th>\n",
       "      <th>...</th>\n",
       "      <th>chan2-pftas45</th>\n",
       "      <th>chan2-pftas46</th>\n",
       "      <th>chan2-pftas47</th>\n",
       "      <th>chan2-pftas48</th>\n",
       "      <th>chan2-pftas49</th>\n",
       "      <th>chan2-pftas50</th>\n",
       "      <th>chan2-pftas51</th>\n",
       "      <th>chan2-pftas52</th>\n",
       "      <th>chan2-pftas53</th>\n",
       "      <th>chan2-pftas54</th>\n",
       "    </tr>\n",
       "    <tr>\n",
       "      <th>index</th>\n",
       "      <th></th>\n",
       "      <th></th>\n",
       "      <th></th>\n",
       "      <th></th>\n",
       "      <th></th>\n",
       "      <th></th>\n",
       "      <th></th>\n",
       "      <th></th>\n",
       "      <th></th>\n",
       "      <th></th>\n",
       "      <th></th>\n",
       "      <th></th>\n",
       "      <th></th>\n",
       "      <th></th>\n",
       "      <th></th>\n",
       "      <th></th>\n",
       "      <th></th>\n",
       "      <th></th>\n",
       "      <th></th>\n",
       "      <th></th>\n",
       "      <th></th>\n",
       "    </tr>\n",
       "  </thead>\n",
       "  <tbody>\n",
       "    <tr>\n",
       "      <th>BBBC021-22123-B04</th>\n",
       "      <td>82.00</td>\n",
       "      <td>334.93</td>\n",
       "      <td>681.90</td>\n",
       "      <td>940.0</td>\n",
       "      <td>1200.10</td>\n",
       "      <td>1850.23</td>\n",
       "      <td>0.409342</td>\n",
       "      <td>0.640938</td>\n",
       "      <td>0.754656</td>\n",
       "      <td>0.831699</td>\n",
       "      <td>...</td>\n",
       "      <td>0.001030</td>\n",
       "      <td>0.559508</td>\n",
       "      <td>0.097665</td>\n",
       "      <td>0.076829</td>\n",
       "      <td>0.110700</td>\n",
       "      <td>0.083324</td>\n",
       "      <td>0.047067</td>\n",
       "      <td>0.014472</td>\n",
       "      <td>0.007057</td>\n",
       "      <td>0.003377</td>\n",
       "    </tr>\n",
       "    <tr>\n",
       "      <th>BBBC021-22123-B03</th>\n",
       "      <td>53.50</td>\n",
       "      <td>313.22</td>\n",
       "      <td>600.90</td>\n",
       "      <td>779.5</td>\n",
       "      <td>1089.15</td>\n",
       "      <td>2346.68</td>\n",
       "      <td>0.438146</td>\n",
       "      <td>0.612522</td>\n",
       "      <td>0.721969</td>\n",
       "      <td>0.817265</td>\n",
       "      <td>...</td>\n",
       "      <td>0.000646</td>\n",
       "      <td>0.615476</td>\n",
       "      <td>0.092003</td>\n",
       "      <td>0.072895</td>\n",
       "      <td>0.093689</td>\n",
       "      <td>0.068061</td>\n",
       "      <td>0.038294</td>\n",
       "      <td>0.011432</td>\n",
       "      <td>0.005477</td>\n",
       "      <td>0.002674</td>\n",
       "    </tr>\n",
       "    <tr>\n",
       "      <th>BBBC021-24121-B06</th>\n",
       "      <td>72.00</td>\n",
       "      <td>367.81</td>\n",
       "      <td>572.85</td>\n",
       "      <td>804.0</td>\n",
       "      <td>967.50</td>\n",
       "      <td>1714.47</td>\n",
       "      <td>0.346730</td>\n",
       "      <td>0.603215</td>\n",
       "      <td>0.717655</td>\n",
       "      <td>0.832297</td>\n",
       "      <td>...</td>\n",
       "      <td>0.000072</td>\n",
       "      <td>0.749531</td>\n",
       "      <td>0.068329</td>\n",
       "      <td>0.048124</td>\n",
       "      <td>0.071313</td>\n",
       "      <td>0.045267</td>\n",
       "      <td>0.012705</td>\n",
       "      <td>0.003083</td>\n",
       "      <td>0.001237</td>\n",
       "      <td>0.000410</td>\n",
       "    </tr>\n",
       "    <tr>\n",
       "      <th>BBBC021-22361-B06</th>\n",
       "      <td>138.50</td>\n",
       "      <td>218.88</td>\n",
       "      <td>570.95</td>\n",
       "      <td>978.5</td>\n",
       "      <td>1522.50</td>\n",
       "      <td>2474.56</td>\n",
       "      <td>0.453993</td>\n",
       "      <td>0.676182</td>\n",
       "      <td>0.786166</td>\n",
       "      <td>0.863285</td>\n",
       "      <td>...</td>\n",
       "      <td>0.000776</td>\n",
       "      <td>0.718063</td>\n",
       "      <td>0.076562</td>\n",
       "      <td>0.059223</td>\n",
       "      <td>0.064269</td>\n",
       "      <td>0.042778</td>\n",
       "      <td>0.020447</td>\n",
       "      <td>0.010393</td>\n",
       "      <td>0.005850</td>\n",
       "      <td>0.002416</td>\n",
       "    </tr>\n",
       "    <tr>\n",
       "      <th>BBBC021-22361-B05</th>\n",
       "      <td>109.75</td>\n",
       "      <td>23.36</td>\n",
       "      <td>571.60</td>\n",
       "      <td>855.0</td>\n",
       "      <td>1191.00</td>\n",
       "      <td>2446.48</td>\n",
       "      <td>0.340896</td>\n",
       "      <td>0.614730</td>\n",
       "      <td>0.759387</td>\n",
       "      <td>0.851912</td>\n",
       "      <td>...</td>\n",
       "      <td>0.000702</td>\n",
       "      <td>0.705563</td>\n",
       "      <td>0.074144</td>\n",
       "      <td>0.056653</td>\n",
       "      <td>0.072273</td>\n",
       "      <td>0.050967</td>\n",
       "      <td>0.025128</td>\n",
       "      <td>0.008891</td>\n",
       "      <td>0.004488</td>\n",
       "      <td>0.001894</td>\n",
       "    </tr>\n",
       "  </tbody>\n",
       "</table>\n",
       "<p>5 rows × 441 columns</p>\n",
       "</div>"
      ],
      "text/plain": [
       "                   chan0-num-objs-per-field  chan0-area-percentile5  \\\n",
       "index                                                                 \n",
       "BBBC021-22123-B04                     82.00                  334.93   \n",
       "BBBC021-22123-B03                     53.50                  313.22   \n",
       "BBBC021-24121-B06                     72.00                  367.81   \n",
       "BBBC021-22361-B06                    138.50                  218.88   \n",
       "BBBC021-22361-B05                    109.75                   23.36   \n",
       "\n",
       "                   chan0-area-percentile25  chan0-area-percentile50  \\\n",
       "index                                                                 \n",
       "BBBC021-22123-B04                   681.90                    940.0   \n",
       "BBBC021-22123-B03                   600.90                    779.5   \n",
       "BBBC021-24121-B06                   572.85                    804.0   \n",
       "BBBC021-22361-B06                   570.95                    978.5   \n",
       "BBBC021-22361-B05                   571.60                    855.0   \n",
       "\n",
       "                   chan0-area-percentile75  chan0-area-percentile95  \\\n",
       "index                                                                 \n",
       "BBBC021-22123-B04                  1200.10                  1850.23   \n",
       "BBBC021-22123-B03                  1089.15                  2346.68   \n",
       "BBBC021-24121-B06                   967.50                  1714.47   \n",
       "BBBC021-22361-B06                  1522.50                  2474.56   \n",
       "BBBC021-22361-B05                  1191.00                  2446.48   \n",
       "\n",
       "                   chan0-eccentricity-percentile5  \\\n",
       "index                                               \n",
       "BBBC021-22123-B04                        0.409342   \n",
       "BBBC021-22123-B03                        0.438146   \n",
       "BBBC021-24121-B06                        0.346730   \n",
       "BBBC021-22361-B06                        0.453993   \n",
       "BBBC021-22361-B05                        0.340896   \n",
       "\n",
       "                   chan0-eccentricity-percentile25  \\\n",
       "index                                                \n",
       "BBBC021-22123-B04                         0.640938   \n",
       "BBBC021-22123-B03                         0.612522   \n",
       "BBBC021-24121-B06                         0.603215   \n",
       "BBBC021-22361-B06                         0.676182   \n",
       "BBBC021-22361-B05                         0.614730   \n",
       "\n",
       "                   chan0-eccentricity-percentile50  \\\n",
       "index                                                \n",
       "BBBC021-22123-B04                         0.754656   \n",
       "BBBC021-22123-B03                         0.721969   \n",
       "BBBC021-24121-B06                         0.717655   \n",
       "BBBC021-22361-B06                         0.786166   \n",
       "BBBC021-22361-B05                         0.759387   \n",
       "\n",
       "                   chan0-eccentricity-percentile75      ...        \\\n",
       "index                                                   ...         \n",
       "BBBC021-22123-B04                         0.831699      ...         \n",
       "BBBC021-22123-B03                         0.817265      ...         \n",
       "BBBC021-24121-B06                         0.832297      ...         \n",
       "BBBC021-22361-B06                         0.863285      ...         \n",
       "BBBC021-22361-B05                         0.851912      ...         \n",
       "\n",
       "                   chan2-pftas45  chan2-pftas46  chan2-pftas47  chan2-pftas48  \\\n",
       "index                                                                           \n",
       "BBBC021-22123-B04       0.001030       0.559508       0.097665       0.076829   \n",
       "BBBC021-22123-B03       0.000646       0.615476       0.092003       0.072895   \n",
       "BBBC021-24121-B06       0.000072       0.749531       0.068329       0.048124   \n",
       "BBBC021-22361-B06       0.000776       0.718063       0.076562       0.059223   \n",
       "BBBC021-22361-B05       0.000702       0.705563       0.074144       0.056653   \n",
       "\n",
       "                   chan2-pftas49  chan2-pftas50  chan2-pftas51  chan2-pftas52  \\\n",
       "index                                                                           \n",
       "BBBC021-22123-B04       0.110700       0.083324       0.047067       0.014472   \n",
       "BBBC021-22123-B03       0.093689       0.068061       0.038294       0.011432   \n",
       "BBBC021-24121-B06       0.071313       0.045267       0.012705       0.003083   \n",
       "BBBC021-22361-B06       0.064269       0.042778       0.020447       0.010393   \n",
       "BBBC021-22361-B05       0.072273       0.050967       0.025128       0.008891   \n",
       "\n",
       "                   chan2-pftas53  chan2-pftas54  \n",
       "index                                            \n",
       "BBBC021-22123-B04       0.007057       0.003377  \n",
       "BBBC021-22123-B03       0.005477       0.002674  \n",
       "BBBC021-24121-B06       0.001237       0.000410  \n",
       "BBBC021-22361-B06       0.005850       0.002416  \n",
       "BBBC021-22361-B05       0.004488       0.001894  \n",
       "\n",
       "[5 rows x 441 columns]"
      ]
     },
     "execution_count": 8,
     "metadata": {},
     "output_type": "execute_result"
    }
   ],
   "source": [
    "# now load the feature data frame\n",
    "bbbc021_complete = pd.read_csv(\"./BBBC021_feature.csv\", index_col=0)\n",
    "# we only want the feature vectors for samples that were annotated\n",
    "bbbc021_feature = bbbc021_complete.ix[bbbc021_merged.index]\n",
    "bbbc021_feature.head()"
   ]
  },
  {
   "cell_type": "code",
   "execution_count": 9,
   "metadata": {
    "collapsed": false
   },
   "outputs": [],
   "source": [
    "# Now scale the dataframe and we're good to go!\n",
    "std = StandardScaler().fit_transform(bbbc021_feature.values)\n",
    "bbbc021_feature = pd.DataFrame(std, columns=bbbc021_feature.columns, index=bbbc021_feature.index)"
   ]
  },
  {
   "cell_type": "markdown",
   "metadata": {},
   "source": [
    "## Supervised learning\n",
    "\n",
    "Now we have our training data. Let's try it with a simple linear SVM using the full set of features. Why SVM? A linear SVM is simple, performs well and the weights can be used to quantify feature importance. First a quick 5-fold cross validation to check it can discriminate between classes."
   ]
  },
  {
   "cell_type": "code",
   "execution_count": 10,
   "metadata": {
    "collapsed": false
   },
   "outputs": [
    {
     "data": {
      "text/plain": [
       "0.81031746031746033"
      ]
     },
     "execution_count": 10,
     "metadata": {},
     "output_type": "execute_result"
    }
   ],
   "source": [
    "classifier = svm.SVC(kernel='linear', C=1)\n",
    "scores = cross_validation.cross_val_score(classifier, \n",
    "                                          bbbc021_feature.values, \n",
    "                                          bbbc021_merged[\"moa\"].values,\n",
    "                                          cv=5)\n",
    "sum(scores / 5)"
   ]
  },
  {
   "cell_type": "markdown",
   "metadata": {},
   "source": [
    "Hey, that's not bad!! Previous studies have ~90% accuracy but they've done lots more fine-tuning of the features and segmentation pipeline. The features show the data is somewhat linearly seperable. Let's see how object features, texture features and threshold adjacancy statistics perform on their own."
   ]
  },
  {
   "cell_type": "code",
   "execution_count": 11,
   "metadata": {
    "collapsed": true
   },
   "outputs": [],
   "source": [
    "object_cols = [col for col in bbbc021_feature.columns if \"pftas\" not in col and \"haralick\" not in col]\n",
    "haralick_cols = [col for col in bbbc021_feature.columns if \"haralick\" in col]\n",
    "pftas_cols = [col for col in bbbc021_feature.columns if \"pftas\" in col]"
   ]
  },
  {
   "cell_type": "code",
   "execution_count": 12,
   "metadata": {
    "collapsed": false
   },
   "outputs": [
    {
     "data": {
      "text/plain": [
       "0.82131746031746033"
      ]
     },
     "execution_count": 12,
     "metadata": {},
     "output_type": "execute_result"
    }
   ],
   "source": [
    "scores = cross_validation.cross_val_score(classifier, \n",
    "                                          bbbc021_feature[object_cols].values, \n",
    "                                          bbbc021_merged[\"moa\"].values,\n",
    "                                          cv=5)\n",
    "sum(scores / 5)"
   ]
  },
  {
   "cell_type": "code",
   "execution_count": 13,
   "metadata": {
    "collapsed": false
   },
   "outputs": [
    {
     "data": {
      "text/plain": [
       "0.33047619047619048"
      ]
     },
     "execution_count": 13,
     "metadata": {},
     "output_type": "execute_result"
    }
   ],
   "source": [
    "scores = cross_validation.cross_val_score(classifier, \n",
    "                                          bbbc021_feature[haralick_cols].values, \n",
    "                                          bbbc021_merged[\"moa\"].values,\n",
    "                                          cv=5)\n",
    "sum(scores / 5)"
   ]
  },
  {
   "cell_type": "code",
   "execution_count": 14,
   "metadata": {
    "collapsed": false
   },
   "outputs": [
    {
     "data": {
      "text/plain": [
       "0.83350793650793653"
      ]
     },
     "execution_count": 14,
     "metadata": {},
     "output_type": "execute_result"
    }
   ],
   "source": [
    "scores = cross_validation.cross_val_score(classifier, \n",
    "                                          bbbc021_feature[pftas_cols].values, \n",
    "                                          bbbc021_merged[\"moa\"].values,\n",
    "                                          cv=5)\n",
    "sum(scores / 5)"
   ]
  },
  {
   "cell_type": "markdown",
   "metadata": {},
   "source": [
    "Wow! Object and PFTAS features do great on their own. What if we tried both?"
   ]
  },
  {
   "cell_type": "code",
   "execution_count": 15,
   "metadata": {
    "collapsed": false
   },
   "outputs": [
    {
     "data": {
      "text/plain": [
       "0.85195238095238091"
      ]
     },
     "execution_count": 15,
     "metadata": {},
     "output_type": "execute_result"
    }
   ],
   "source": [
    "object_pftas_cols = [col for col in bbbc021_feature.columns if \"haralick\" not in col]\n",
    "scores = cross_validation.cross_val_score(classifier, \n",
    "                                          bbbc021_feature[object_pftas_cols].values, \n",
    "                                          bbbc021_merged[\"moa\"].values,\n",
    "                                          cv=5)\n",
    "sum(scores / 5)"
   ]
  },
  {
   "cell_type": "markdown",
   "metadata": {},
   "source": [
    "85%! That's the best performance yet. Let's look at some feature importance scores using ExtraTrees. We can use this model to get Gini coefficients for each feature."
   ]
  },
  {
   "cell_type": "code",
   "execution_count": 16,
   "metadata": {
    "collapsed": false
   },
   "outputs": [],
   "source": [
    "et_classifier = ExtraTreesClassifier()\n",
    "et_classifier.fit(bbbc021_feature[object_pftas_cols].values, bbbc021_merged[\"moa\"].values)\n",
    "\n",
    "feature_scores = pd.DataFrame(data={\"feature\": bbbc021_feature[object_pftas_cols].columns, \n",
    "                                    \"gini\": et_classifier.feature_importances_})\n",
    "feature_scores = feature_scores.sort_values(by=\"gini\", ascending=False)"
   ]
  },
  {
   "cell_type": "code",
   "execution_count": 17,
   "metadata": {
    "collapsed": false
   },
   "outputs": [
    {
     "data": {
      "image/png": "[encoded data removed]",
      "text/plain": [
       "<matplotlib.figure.Figure at 0x7f25a5a94780>"
      ]
     },
     "metadata": {},
     "output_type": "display_data"
    }
   ],
   "source": [
    "top_k = 30\n",
    "\n",
    "plt.barh(np.arange(top_k), feature_scores.head(top_k)[\"gini\"], align=\"center\", alpha=0.4)\n",
    "plt.ylim([top_k, -1])\n",
    "plt.yticks(np.arange(top_k), feature_scores.head(30)[\"feature\"])\n",
    "plt.tight_layout()\n",
    "plt.title(\"Feature Importance for Annotated BBBC021 Data Subset\")\n",
    "plt.xlabel(\"Gini Coefficient\")\n",
    "plt.show()"
   ]
  },
  {
   "cell_type": "markdown",
   "metadata": {},
   "source": [
    "Features across all three channels, and a mixture of both object and adjacancy threshold statistics contribute as the most important features. There's no evidence to suggest that one particular feature dominates here. "
   ]
  },
  {
   "cell_type": "markdown",
   "metadata": {},
   "source": [
    "## Supervised Learning - Independence of Features\n",
    "\n",
    "How accurate if the classification if we take random subsets of features? We've shown pretty clearly that no feature dominates by means of the gini coefficients, but we can demonstrate this further by training classifiers with random subsets of features and seeing how they perform. Let's train them with say, 65% of the features."
   ]
  },
  {
   "cell_type": "code",
   "execution_count": 18,
   "metadata": {
    "collapsed": false
   },
   "outputs": [],
   "source": [
    "n_features = bbbc021_feature[object_pftas_cols].shape[1]\n",
    "sample_size = int(np.round(n_features * 0.65))\n",
    "\n",
    "all_scores = []\n",
    "for i in range(10000):\n",
    "    random_index = np.random.choice(np.arange(n_features), sample_size)\n",
    "    scores = cross_validation.cross_val_score(classifier, \n",
    "                                          bbbc021_feature[object_pftas_cols][random_index].values, \n",
    "                                          bbbc021_merged[\"moa\"].values,\n",
    "                                          cv=5)\n",
    "    cv_score = sum(scores / 5)\n",
    "    all_scores.append(cv_score)"
   ]
  },
  {
   "cell_type": "code",
   "execution_count": 19,
   "metadata": {
    "collapsed": false
   },
   "outputs": [
    {
     "data": {
      "text/html": [
       "<div>\n",
       "<table border=\"1\" class=\"dataframe\">\n",
       "  <thead>\n",
       "    <tr style=\"text-align: right;\">\n",
       "      <th></th>\n",
       "      <th>0</th>\n",
       "    </tr>\n",
       "  </thead>\n",
       "  <tbody>\n",
       "    <tr>\n",
       "      <th>count</th>\n",
       "      <td>10000.000000</td>\n",
       "    </tr>\n",
       "    <tr>\n",
       "      <th>mean</th>\n",
       "      <td>0.859665</td>\n",
       "    </tr>\n",
       "    <tr>\n",
       "      <th>std</th>\n",
       "      <td>0.024358</td>\n",
       "    </tr>\n",
       "    <tr>\n",
       "      <th>min</th>\n",
       "      <td>0.756603</td>\n",
       "    </tr>\n",
       "    <tr>\n",
       "      <th>25%</th>\n",
       "      <td>0.843131</td>\n",
       "    </tr>\n",
       "    <tr>\n",
       "      <th>50%</th>\n",
       "      <td>0.860619</td>\n",
       "    </tr>\n",
       "    <tr>\n",
       "      <th>75%</th>\n",
       "      <td>0.876619</td>\n",
       "    </tr>\n",
       "    <tr>\n",
       "      <th>max</th>\n",
       "      <td>0.937111</td>\n",
       "    </tr>\n",
       "  </tbody>\n",
       "</table>\n",
       "</div>"
      ],
      "text/plain": [
       "                  0\n",
       "count  10000.000000\n",
       "mean       0.859665\n",
       "std        0.024358\n",
       "min        0.756603\n",
       "25%        0.843131\n",
       "50%        0.860619\n",
       "75%        0.876619\n",
       "max        0.937111"
      ]
     },
     "execution_count": 19,
     "metadata": {},
     "output_type": "execute_result"
    }
   ],
   "source": [
    "pd.DataFrame(all_scores).describe()"
   ]
  },
  {
   "cell_type": "markdown",
   "metadata": {},
   "source": [
    "The accuracy of the classifier is robust against random subsetting of the data. Maximum classifier is as high as ~90% on some subset(s) of the data."
   ]
  },
  {
   "cell_type": "markdown",
   "metadata": {},
   "source": [
    "## Unsupervised Learning\n",
    "\n",
    "The next task is to cluster the feature vectors into 11 clusters and see how well the original labels are represented. I'll use Agglomerative Clustering with the Cosine distance."
   ]
  },
  {
   "cell_type": "code",
   "execution_count": 20,
   "metadata": {
    "collapsed": false
   },
   "outputs": [
    {
     "data": {
      "text/plain": [
       "0.4862135828349653"
      ]
     },
     "execution_count": 20,
     "metadata": {},
     "output_type": "execute_result"
    }
   ],
   "source": [
    "ag_clustering = AgglomerativeClustering(n_clusters=12, affinity=\"cosine\", linkage=\"complete\")\n",
    "ag_predict = ag_clustering.fit_predict(X=bbbc021_feature[object_pftas_cols].values)\n",
    "\n",
    "metrics.adjusted_rand_score(bbbc021_merged[\"moa\"].values, ag_predict)"
   ]
  },
  {
   "cell_type": "markdown",
   "metadata": {},
   "source": [
    "Not great, but they're not completely random either. "
   ]
  },
  {
   "cell_type": "markdown",
   "metadata": {},
   "source": [
    "## Dimensionality Reduction\n",
    "\n",
    "Now we look at the PCA and TSNE embeddings. This is the real test, seeing as the PCA and TSNE embeddings of the data drive the Microscopium interface."
   ]
  },
  {
   "cell_type": "code",
   "execution_count": 21,
   "metadata": {
    "collapsed": true
   },
   "outputs": [],
   "source": [
    "rand_seed = 42\n",
    "\n",
    "bbbc021_pca = PCA(n_components=2).fit_transform(bbbc021_feature[object_pftas_cols].values)\n",
    "bbbc021_pca_50 = PCA(n_components=50).fit_transform(bbbc021_feature[object_pftas_cols].values)\n",
    "bbbc021_tsne = TSNE(n_components=2, learning_rate=100, random_state=42).fit_transform(bbbc021_pca_50)"
   ]
  },
  {
   "cell_type": "code",
   "execution_count": 22,
   "metadata": {
    "collapsed": false
   },
   "outputs": [],
   "source": [
    "labels = list(set(bbbc021_merged[\"moa\"]))\n",
    "bmap = brewer2mpl.get_map(\"Paired\", \"Qualitative\", 12)\n",
    "color_scale = dict(zip(labels, bmap.mpl_colors))"
   ]
  },
  {
   "cell_type": "code",
   "execution_count": 23,
   "metadata": {
    "collapsed": false
   },
   "outputs": [
    {
     "data": {
      "image/png": "[encoded data removed]",
      "text/plain": [
       "<matplotlib.figure.Figure at 0x7f25a5a22ba8>"
      ]
     },
     "metadata": {},
     "output_type": "display_data"
    }
   ],
   "source": [
    "bbbc021_pca_df = pd.DataFrame(dict(x=bbbc021_pca[:, 0], \n",
    "                              y=bbbc021_pca[:, 1], \n",
    "                              label=bbbc021_merged[\"moa\"].values), \n",
    "                              index=bbbc021_feature.index)\n",
    "groups = bbbc021_pca_df.groupby('label')\n",
    "\n",
    "fig, ax = plt.subplots()\n",
    "ax.margins(0.05)\n",
    "for name, group in groups:\n",
    "    ax.scatter(group.x, group.y, s=45, label=name, c=color_scale[name])\n",
    "ax.legend(scatterpoints=1, loc='upper center', bbox_to_anchor=(0.5, -0.05),\n",
    "          fancybox=True, shadow=True, ncol=4)\n",
    "plt.title(\"PCA\")\n",
    "\n",
    "fig = plt.gcf()\n",
    "fig.subplots_adjust(bottom=0.2)\n",
    "\n",
    "plt.show()"
   ]
  },
  {
   "cell_type": "markdown",
   "metadata": {},
   "source": [
    "The PCA embedding isn't particularly useful."
   ]
  },
  {
   "cell_type": "code",
   "execution_count": 24,
   "metadata": {
    "collapsed": false
   },
   "outputs": [
    {
     "data": {
      "image/png": "[encoded data removed]",
      "text/plain": [
       "<matplotlib.figure.Figure at 0x7f25a5a22a58>"
      ]
     },
     "metadata": {},
     "output_type": "display_data"
    }
   ],
   "source": [
    "bbbc021_tsne_df = pd.DataFrame(dict(x=bbbc021_tsne[:, 0], \n",
    "                                    y=bbbc021_tsne[:, 1], \n",
    "                                    label=bbbc021_merged[\"moa\"].values), \n",
    "                               index=bbbc021_feature.index)\n",
    "groups = bbbc021_tsne_df.groupby('label')\n",
    "\n",
    "fig, ax = plt.subplots()\n",
    "ax.margins(0.05)\n",
    "for name, group in groups:\n",
    "    ax.scatter(group.x, group.y, s=45, label=name, c=color_scale[name])\n",
    "ax.legend(scatterpoints=1, loc='upper center', bbox_to_anchor=(0.5, -0.05),\n",
    "          fancybox=True, shadow=True, ncol=4)\n",
    "plt.title(\"TSNE\")\n",
    "\n",
    "fig = plt.gcf()\n",
    "fig.subplots_adjust(bottom=0.2)\n",
    "\n",
    "plt.show()"
   ]
  },
  {
   "cell_type": "markdown",
   "metadata": {},
   "source": [
    "TSNE's is much better. We get some tight clusters and individual categories tend to stay close."
   ]
  },
  {
   "cell_type": "markdown",
   "metadata": {},
   "source": [
    "## Can TSNE embeddings classify examples?\n",
    "\n",
    "Finally, we plot together 10 randomly chosen examples along with the annotated examples. The idea here is to find samples that group together. We can then look up the compound and determine if it's in the same category of compound. "
   ]
  },
  {
   "cell_type": "markdown",
   "metadata": {},
   "source": [
    "## Conclusions\n",
    "* Based on the peformance of the supervised classifier, object features in tandem with threshold adjacancy statistics perform the best. There's evidence to suggest the texture features are useless, but it'd be good to try this against another data-set with ground-truth labels."
   ]
  },
  {
   "cell_type": "code",
   "execution_count": 25,
   "metadata": {
    "collapsed": false
   },
   "outputs": [],
   "source": [
    "np.random.seed(13)\n",
    "\n",
    "# get the set difference of indices in the whole dataset, and indices \n",
    "unannot_index = np.setdiff1d(bbbc021_complete.index, bbbc021_feature.index)\n",
    "\n",
    "# get 20 random examples from the data frame\n",
    "unannot_sample = np.random.choice(unannot_index, 10)\n",
    "\n",
    "# combine these samples with the annotated ones, rescale the data-frame\n",
    "bbbc021_new = bbbc021_complete.ix[bbbc021_feature.index | unannot_sample]\n",
    "\n",
    "\n",
    "bbbc021_new_std = StandardScaler().fit_transform(bbbc021_new.values)\n",
    "bbbc021_new = pd.DataFrame(bbbc021_new_std, columns=bbbc021_new.columns, index=bbbc021_new.index)\n",
    "\n",
    "# embed to tsne\n",
    "bbbc021_new_pca_50 = PCA(n_components=50).fit_transform(bbbc021_new.values)\n",
    "bbbc021_new_tsne = TSNE(n_components=2, learning_rate=45, random_state=rand_seed).fit_transform(bbbc021_new_pca_50)\n",
    "\n",
    "bbbc021_new_tsne_df = pd.DataFrame(dict(x=bbbc021_new_tsne[:, 0], \n",
    "                                        y=bbbc021_new_tsne[:, 1]), \n",
    "                                   index=bbbc021_new.index)\n",
    "\n",
    "# add moa labels\n",
    "bbbc021_new_tsne_df = bbbc021_new_tsne_df.merge(bbbc021_merged, \n",
    "                                                how=\"outer\", \n",
    "                                                left_index=True, \n",
    "                                                right_index=True)"
   ]
  },
  {
   "cell_type": "code",
   "execution_count": 26,
   "metadata": {
    "collapsed": false
   },
   "outputs": [
    {
     "data": {
      "image/png": "[encoded data removed]",
      "text/plain": [
       "<matplotlib.figure.Figure at 0x7f25a2c63240>"
      ]
     },
     "metadata": {},
     "output_type": "display_data"
    }
   ],
   "source": [
    "groups = bbbc021_new_tsne_df.fillna(\"No Annotation\").groupby('moa')\n",
    "\n",
    "fig, ax = plt.subplots()\n",
    "ax.margins(0.05)\n",
    "\n",
    "for name, group in groups:\n",
    "    color = color_scale.get(name)\n",
    "    if color is None:\n",
    "        color = (1, 1, 1)\n",
    "    ax.scatter(group.x, group.y, s=45, label=name, c=color)\n",
    "\n",
    "ax.legend(scatterpoints=1, loc='upper center', bbox_to_anchor=(0.5, -0.05),\n",
    "      fancybox=True, shadow=True, ncol=4)\n",
    "plt.title(\"TSNE\")\n",
    "\n",
    "for idx in unannot_sample:\n",
    "    row = bbbc021_new_tsne_df.ix[idx]\n",
    "    \n",
    "    plt.annotate(\n",
    "        idx, \n",
    "        xy = (row[0], row[1]), xytext = (0, 20),\n",
    "        textcoords = 'offset points', ha = 'right', va = 'bottom',\n",
    "        bbox = dict(boxstyle = 'round,pad=0.5', fc = 'yellow', alpha = 0.5),\n",
    "        arrowprops = dict(arrowstyle = '->', connectionstyle = 'arc3,rad=0'))\n",
    "    \n",
    "fig = plt.gcf()\n",
    "fig.subplots_adjust(bottom=0.2)\n",
    "\n",
    "plt.show()"
   ]
  },
  {
   "cell_type": "markdown",
   "metadata": {},
   "source": [
    "Woo, I've never matplotlibbed that hard before. Of the unannotated samples, I make the following observations:\n",
    "\n",
    "* BBBC021-22141-D08 clusters together tightly with the Microtubule stabilizers\n",
    "* BBBC021-25701-C07 and BBBC021-25681-C09 group together with Protein synthesis\n",
    "* BBBC021-22161-F07 clusters together with the Auroroa kinase stabilizers\n",
    "* BBBC021-27821-C05 clusters loosely with DNA damagers\n",
    "* BBBC021-34641-C10 groups with Kinase inhibitors\n",
    "\n",
    "Are these groupings at all relevant? If we look up their corresponding compounds, does the mechanism of action of the samples they were clustered with agree?? Let's get their compunds."
   ]
  },
  {
   "cell_type": "code",
   "execution_count": 27,
   "metadata": {
    "collapsed": false
   },
   "outputs": [
    {
     "data": {
      "text/html": [
       "<div>\n",
       "<table border=\"1\" class=\"dataframe\">\n",
       "  <thead>\n",
       "    <tr style=\"text-align: right;\">\n",
       "      <th></th>\n",
       "      <th>Image_Metadata_Compound</th>\n",
       "      <th>Image_Metadata_Concentration</th>\n",
       "    </tr>\n",
       "  </thead>\n",
       "  <tbody>\n",
       "    <tr>\n",
       "      <th>BBBC021-22141-D08</th>\n",
       "      <td>taxol</td>\n",
       "      <td>0.0100</td>\n",
       "    </tr>\n",
       "    <tr>\n",
       "      <th>BBBC021-25701-C07</th>\n",
       "      <td>emetine</td>\n",
       "      <td>0.3000</td>\n",
       "    </tr>\n",
       "    <tr>\n",
       "      <th>BConclusionsBBC021-22161-F07</th>\n",
       "      <td>NaN</td>\n",
       "      <td>NaN</td>\n",
       "    </tr>\n",
       "    <tr>\n",
       "      <th>BBBC021-27821-C05</th>\n",
       "      <td>AZ258</td>\n",
       "      <td>3.0000</td>\n",
       "    </tr>\n",
       "    <tr>\n",
       "      <th>BBBC021-25681-C09</th>\n",
       "      <td>emetine</td>\n",
       "      <td>0.0300</td>\n",
       "    </tr>\n",
       "    <tr>\n",
       "      <th>BBBC021-34641-C10</th>\n",
       "      <td>docetaxel</td>\n",
       "      <td>0.0003</td>\n",
       "    </tr>\n",
       "  </tbody>\n",
       "</table>\n",
       "</div>"
      ],
      "text/plain": [
       "                             Image_Metadata_Compound  \\\n",
       "BBBC021-22141-D08                              taxol   \n",
       "BBBC021-25701-C07                            emetine   \n",
       "BConclusionsBBC021-22161-F07                     NaN   \n",
       "BBBC021-27821-C05                              AZ258   \n",
       "BBBC021-25681-C09                            emetine   \n",
       "BBBC021-34641-C10                          docetaxel   \n",
       "\n",
       "                              Image_Metadata_Concentration  \n",
       "BBBC021-22141-D08                                   0.0100  \n",
       "BBBC021-25701-C07                                   0.3000  \n",
       "BConclusionsBBC021-22161-F07                           NaN  \n",
       "BBBC021-27821-C05                                   3.0000  \n",
       "BBBC021-25681-C09                                   0.0300  \n",
       "BBBC021-34641-C10                                   0.0003  "
      ]
     },
     "execution_count": 27,
     "metadata": {},
     "output_type": "execute_result"
    }
   ],
   "source": [
    "selected_indices = [\"BBBC021-22141-D08\", \n",
    "                    \"BBBC021-25701-C07\", \n",
    "                    \"BConclusionsBBC021-22161-F07\", \n",
    "                    \"BBBC021-27821-C05\",\n",
    "                    \"BBBC021-25681-C09\", \n",
    "                    \"BBBC021-34641-C10\"]\n",
    "\n",
    "bbbc021_metadata.ix[selected_indices].drop_duplicates()"
   ]
  },
  {
   "cell_type": "markdown",
   "metadata": {},
   "source": [
    "* taxol is a microtubule stabilizer! https://pubchem.ncbi.nlm.nih.gov/compound/paclitaxel\n",
    "* emetine is involved in protein synthesis inhibition -- https://pubchem.ncbi.nlm.nih.gov/compound/10219 and its neighbouring samples are annotated as \"Protein synthesis\", so I'll take this as a positive result\n",
    "* AZ258 was annotated as a DNA damager, but this concentration wasn't annotated.\n",
    "* AZ-H, couldn't find which compound this was exactly despite my best efforts.\n",
    "* docetaxel is a Microtubule Inhibitor per pubchem https://pubchem.ncbi.nlm.nih.gov/compound/docetaxel, but the TSNE grouping suggests it's a Kinase inhibitor. Not a close match."
   ]
  },
  {
   "cell_type": "markdown",
   "metadata": {},
   "source": [
    "## Conclusions\n",
    "\n",
    "* When used in a supervised classifier, the features perform with 85% 5-fold cross validation accuracy using a linear SVM. Object features along with the threshold adjacancy statistics give the best performance.\n",
    "* Based on the gini coefficient, features across all three channels are useful in classification.\n",
    "* Classifier results are robust against random subsetting of the features, i.e. features are independent.\n",
    "* TSNE far outperforms PCA, where sample labels are somewhat faithfully preserved.\n",
    "* Manually annotating a few samples based on their TSNE embedding seems to preserve the grouping."
   ]
  },
  {
   "cell_type": "code",
   "execution_count": null,
   "metadata": {
    "collapsed": true
   },
   "outputs": [],
   "source": []
  }
 ],
 "metadata": {
  "kernelspec": {
   "display_name": "Python 3",
   "language": "python",
   "name": "python3"
  },
  "language_info": {
   "codemirror_mode": {
    "name": "ipython",
    "version": 3
   },
   "file_extension": ".py",
   "mimetype": "text/x-python",
   "name": "python",
   "nbconvert_exporter": "python",
   "pygments_lexer": "ipython3",
   "version": "3.4.4"
  }
 },
 "nbformat": 4,
 "nbformat_minor": 0
}
